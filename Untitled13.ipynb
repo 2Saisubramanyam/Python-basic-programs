{
  "nbformat": 4,
  "nbformat_minor": 0,
  "metadata": {
    "colab": {
      "name": "Untitled13.ipynb",
      "provenance": [],
      "collapsed_sections": [],
      "authorship_tag": "ABX9TyO+IOeeb6NqNITJpd2MEcSE",
      "include_colab_link": true
    },
    "kernelspec": {
      "display_name": "Python 3",
      "name": "python3"
    }
  },
  "cells": [
    {
      "cell_type": "markdown",
      "metadata": {
        "id": "view-in-github",
        "colab_type": "text"
      },
      "source": [
        "<a href=\"https://colab.research.google.com/github/2Saisubramanyam/Python-basic-programs/blob/main/Untitled13.ipynb\" target=\"_parent\"><img src=\"https://colab.research.google.com/assets/colab-badge.svg\" alt=\"Open In Colab\"/></a>"
      ]
    },
    {
      "cell_type": "markdown",
      "metadata": {
        "id": "qiaJSEkltSDx"
      },
      "source": [
        "# Patterns in **Python** "
      ]
    },
    {
      "cell_type": "markdown",
      "metadata": {
        "id": "norIe_IrtauS"
      },
      "source": [
        "Right Triangle"
      ]
    },
    {
      "cell_type": "code",
      "metadata": {
        "id": "jFVwocvDtP_E",
        "colab": {
          "base_uri": "https://localhost:8080/",
          "height": 118
        },
        "outputId": "9ee5bbe8-9611-4067-8694-f0536f8e6e58"
      },
      "source": [
        "n=int(input())\n",
        "for i in range(1,n+1):\n",
        "  for j in range(1,i+1):\n",
        "    print(\"*\",end=\" \")\n",
        "  print()"
      ],
      "execution_count": null,
      "outputs": [
        {
          "output_type": "stream",
          "text": [
            "5\n",
            "* \n",
            "* * \n",
            "* * * \n",
            "* * * * \n",
            "* * * * * \n"
          ],
          "name": "stdout"
        }
      ]
    },
    {
      "cell_type": "markdown",
      "metadata": {
        "id": "wdqxq-jWty9l"
      },
      "source": [
        "Opposite of Right Triangle"
      ]
    },
    {
      "cell_type": "code",
      "metadata": {
        "id": "ixRGrDWYtt3q",
        "colab": {
          "base_uri": "https://localhost:8080/",
          "height": 134
        },
        "outputId": "833e2311-4f19-4ae0-f378-d09b53dfe3a0"
      },
      "source": [
        "n=int(input())\n",
        "for i in range(0,n+1):\n",
        "  for j in range(i,n+1):\n",
        "    print(\"*\",end=\" \")\n",
        "  print()"
      ],
      "execution_count": null,
      "outputs": [
        {
          "output_type": "stream",
          "text": [
            "5\n",
            "* * * * * * \n",
            "* * * * * \n",
            "* * * * \n",
            "* * * \n",
            "* * \n",
            "* \n"
          ],
          "name": "stdout"
        }
      ]
    },
    {
      "cell_type": "markdown",
      "metadata": {
        "id": "6LtIIlIEuIma"
      },
      "source": [
        "Odd Right Triangle"
      ]
    },
    {
      "cell_type": "code",
      "metadata": {
        "id": "70CXaTKCuD66",
        "colab": {
          "base_uri": "https://localhost:8080/",
          "height": 118
        },
        "outputId": "52e7dbfd-6261-47a5-be5b-6aa94ff16b0e"
      },
      "source": [
        "n=int(input())\n",
        "k=1\n",
        "for i in range(0,n+1):\n",
        "  for j in range(1,k+1):\n",
        "    print(\"*\",end=\" \")\n",
        "  k+=2\n",
        "  print()\n"
      ],
      "execution_count": null,
      "outputs": [
        {
          "output_type": "stream",
          "text": [
            "4\n",
            "* \n",
            "* * * \n",
            "* * * * * \n",
            "* * * * * * * \n",
            "* * * * * * * * * \n"
          ],
          "name": "stdout"
        }
      ]
    },
    {
      "cell_type": "markdown",
      "metadata": {
        "id": "ENGsBGueufEk"
      },
      "source": [
        "Triangle"
      ]
    },
    {
      "cell_type": "code",
      "metadata": {
        "id": "_NcoL9S0uXuJ",
        "colab": {
          "base_uri": "https://localhost:8080/",
          "height": 101
        },
        "outputId": "b54e28ba-5101-456d-cff5-53f462fe8734"
      },
      "source": [
        "n=int(input())\n",
        "for i in range(0,n):\n",
        "  for j in range(0,n-i-1):\n",
        "    print(end=\" \")\n",
        "  for j in range(0,i+1):\n",
        "    print(\"*\",end=\" \")\n",
        "  print()"
      ],
      "execution_count": null,
      "outputs": [
        {
          "output_type": "stream",
          "text": [
            "4\n",
            "   * \n",
            "  * * \n",
            " * * * \n",
            "* * * * \n"
          ],
          "name": "stdout"
        }
      ]
    },
    {
      "cell_type": "markdown",
      "metadata": {
        "id": "NxODhQmIvOcU"
      },
      "source": [
        "Opposite Triangle"
      ]
    },
    {
      "cell_type": "code",
      "metadata": {
        "id": "zbI5lXU1uzcQ",
        "colab": {
          "base_uri": "https://localhost:8080/",
          "height": 101
        },
        "outputId": "acff9c49-3bc2-4f60-98ca-d594d716d43b"
      },
      "source": [
        "n=int(input())\n",
        "for i in range(n,0,-1):\n",
        "  for j in range(0,n-i):\n",
        "    print(end=\" \")\n",
        "  for j in range(0,i):\n",
        "    print(\"*\",end=\" \")\n",
        "  print()\n",
        "  "
      ],
      "execution_count": null,
      "outputs": [
        {
          "output_type": "stream",
          "text": [
            "4\n",
            "* * * * \n",
            " * * * \n",
            "  * * \n",
            "   * \n"
          ],
          "name": "stdout"
        }
      ]
    },
    {
      "cell_type": "code",
      "metadata": {
        "id": "IV9dMo_Jv2RI",
        "colab": {
          "base_uri": "https://localhost:8080/",
          "height": 34
        },
        "outputId": "a370d814-b91e-4c91-99a4-96e91cd72fb4"
      },
      "source": [
        "print(12//10)"
      ],
      "execution_count": null,
      "outputs": [
        {
          "output_type": "stream",
          "text": [
            "1\n"
          ],
          "name": "stdout"
        }
      ]
    },
    {
      "cell_type": "code",
      "metadata": {
        "id": "3v22g_qYzEPk",
        "colab": {
          "base_uri": "https://localhost:8080/",
          "height": 50
        },
        "outputId": "25628111-9d1d-4c57-ed94-d3f693e21370"
      },
      "source": [
        "from collections import Counter\n",
        "n=input()\n",
        "l =sorted(list(n))\n",
        "cnt=Counter(l)\n",
        "for key, value in cnt.items():\n",
        "    print(key,value,end=\"\",sep=\"\")\n"
      ],
      "execution_count": null,
      "outputs": [
        {
          "output_type": "stream",
          "text": [
            "phqgh\n",
            "g1h2p1q1"
          ],
          "name": "stdout"
        }
      ]
    },
    {
      "cell_type": "code",
      "metadata": {
        "id": "mDen-ohrLgga",
        "colab": {
          "base_uri": "https://localhost:8080/",
          "height": 50
        },
        "outputId": "8c5dab7d-7629-496f-e716-7ff8d7de4598"
      },
      "source": [
        "from collections import Counter\n",
        "n=input()\n",
        "l =sorted(list(n))\n",
        "print(l)"
      ],
      "execution_count": null,
      "outputs": [
        {
          "output_type": "stream",
          "text": [
            "babdc\n",
            "['a', 'b', 'b', 'c', 'd']\n"
          ],
          "name": "stdout"
        }
      ]
    },
    {
      "cell_type": "code",
      "metadata": {
        "id": "ppjgG8yNNq8a",
        "colab": {
          "base_uri": "https://localhost:8080/",
          "height": 34
        },
        "outputId": "d10e2b7e-f316-4184-e663-cd0184cc5412"
      },
      "source": [
        "s=[1,2,3,4,2]\n",
        "s2=[2,3,4,5]\n",
        "l=[]\n",
        "for i in range(len(s2)):\n",
        "  if(s2[i] in s):\n",
        "    l.append(s2[i])\n",
        "    s.remove(s2[i])\n",
        "print(l)"
      ],
      "execution_count": null,
      "outputs": [
        {
          "output_type": "stream",
          "text": [
            "[2, 3, 4]\n"
          ],
          "name": "stdout"
        }
      ]
    },
    {
      "cell_type": "code",
      "metadata": {
        "id": "HOh8dcO4UDe-",
        "colab": {
          "base_uri": "https://localhost:8080/",
          "height": 50
        },
        "outputId": "bf0dd44e-34b7-4d92-d098-8c3c04140ef2"
      },
      "source": [
        "n=int(input())\n",
        "b=bin(n)\n",
        "s=str(b)\n",
        "r=s[2:]\n",
        "print(r)"
      ],
      "execution_count": null,
      "outputs": [
        {
          "output_type": "stream",
          "text": [
            "4\n",
            "100\n"
          ],
          "name": "stdout"
        }
      ]
    },
    {
      "cell_type": "markdown",
      "metadata": {
        "id": "4bCAs3AxmwJP"
      },
      "source": [
        "Anagrms\n"
      ]
    },
    {
      "cell_type": "code",
      "metadata": {
        "id": "WJ79KG1NWAcT",
        "colab": {
          "base_uri": "https://localhost:8080/",
          "height": 67
        },
        "outputId": "9837850b-8e85-49a1-d0fd-d567735797bc"
      },
      "source": [
        "n=input()\n",
        "n2=input()\n",
        "s=n.lower()\n",
        "s2=n2.lower()\n",
        "if(len(s)==len(s2)):\n",
        "  if(sorted(s)==sorted(s2)):\n",
        "    print(\"anagram\")\n",
        "  else:\n",
        "    print(\"not anagram\")\n",
        "else:\n",
        "  print(\"not anagram\")\n"
      ],
      "execution_count": null,
      "outputs": [
        {
          "output_type": "stream",
          "text": [
            "not\n",
            "ton\n",
            "anagram\n"
          ],
          "name": "stdout"
        }
      ]
    },
    {
      "cell_type": "code",
      "metadata": {
        "id": "XaG0ggyblcaH",
        "colab": {
          "base_uri": "https://localhost:8080/",
          "height": 50
        },
        "outputId": "a9ebec64-1db5-4711-a832-342b721e68e0"
      },
      "source": [
        "n=int(input())\n",
        "s=str(n)\n",
        "r=s[::-1]\n",
        "if(s==r):\n",
        "  print(\"palindrome\")\n",
        "else:\n",
        "  print(\"Not palindrome\")"
      ],
      "execution_count": null,
      "outputs": [
        {
          "output_type": "stream",
          "text": [
            "182\n",
            "Not palindrome\n"
          ],
          "name": "stdout"
        }
      ]
    },
    {
      "cell_type": "code",
      "metadata": {
        "id": "DtNyhhFPVoWU",
        "colab": {
          "base_uri": "https://localhost:8080/",
          "height": 34
        },
        "outputId": "de4b4621-8b81-4d99-b8fe-b3e06971d446"
      },
      "source": [
        "st='hackerrank'\n",
        "s='hackerworld'\n",
        "l1=list(st)\n",
        "l2=list(s)\n",
        "c=0\n",
        "lent=len(st)\n",
        "for i in range(0,len(l1)):\n",
        "  if(l1[i] in l2):\n",
        "    c+=1\n",
        "if(c==lent):\n",
        "  print('ye')\n",
        "else:\n",
        "  print('no')\n",
        "\n",
        "  "
      ],
      "execution_count": null,
      "outputs": [
        {
          "output_type": "stream",
          "text": [
            "no\n"
          ],
          "name": "stdout"
        }
      ]
    },
    {
      "cell_type": "code",
      "metadata": {
        "id": "3CtwPtDRj0B4"
      },
      "source": [
        "s=input()\n",
        "ans=' '.join(s.split()[::-1])\n",
        "print(ans)"
      ],
      "execution_count": null,
      "outputs": []
    },
    {
      "cell_type": "code",
      "metadata": {
        "id": "6y2L4On1AFtE",
        "colab": {
          "base_uri": "https://localhost:8080/",
          "height": 34
        },
        "outputId": "0d66acb0-2564-4655-8690-b184fe66f6ba"
      },
      "source": [
        "l=[-1,2,1,4,5,2]\n",
        "t=5\n",
        "le=i+1\n",
        "res=[]\n",
        "r=len(l)-1\n",
        "for i in range(1,len(l)-2):\n",
        "  while(le<r):\n",
        "    total=l[i]+l[le]+l[r]\n",
        "    if(total < t):\n",
        "      le+=1\n",
        "    elif(total > t):\n",
        "      r-=1\n",
        "    else:\n",
        "      res.append(l[i],l[le],l[r])\n",
        "print(res)\n",
        "\n",
        "        "
      ],
      "execution_count": null,
      "outputs": [
        {
          "output_type": "stream",
          "text": [
            "[]\n"
          ],
          "name": "stdout"
        }
      ]
    },
    {
      "cell_type": "markdown",
      "metadata": {
        "id": "aK_JTKdUE9AO"
      },
      "source": [
        "Transpose of matrix"
      ]
    },
    {
      "cell_type": "code",
      "metadata": {
        "id": "pbgsAm7xe_KV",
        "colab": {
          "base_uri": "https://localhost:8080/",
          "height": 67
        },
        "outputId": "092e2e33-22e2-494d-f592-b23d61f21346"
      },
      "source": [
        "l=[\n",
        "   [1,2],\n",
        "   [3,4]\n",
        "  ]\n",
        "for i in range(len(l)):\n",
        "  for j in range(i):\n",
        "    l[i][j],l[j][i]=l[j][i],l[i][j]\n",
        "#for reversing the matrix\n",
        "#rotated matrix\n",
        "for i in l:\n",
        "  print(i)\n",
        "  i.reverse()\n",
        "print(l)"
      ],
      "execution_count": null,
      "outputs": [
        {
          "output_type": "stream",
          "text": [
            "[1, 3]\n",
            "[2, 4]\n",
            "[[3, 1], [4, 2]]\n"
          ],
          "name": "stdout"
        }
      ]
    },
    {
      "cell_type": "code",
      "metadata": {
        "id": "7cis8OKPEfSv",
        "colab": {
          "base_uri": "https://localhost:8080/"
        },
        "outputId": "e01b22f4-f8a7-4a07-df2c-f8e28944d927"
      },
      "source": [
        "print(5^25)"
      ],
      "execution_count": null,
      "outputs": [
        {
          "output_type": "stream",
          "text": [
            "28\n"
          ],
          "name": "stdout"
        }
      ]
    },
    {
      "cell_type": "code",
      "metadata": {
        "id": "o_CfvSAYCQTH",
        "colab": {
          "base_uri": "https://localhost:8080/",
          "height": 52
        },
        "outputId": "1bd7018b-9e24-4916-9ec6-607bc59e33c3"
      },
      "source": [
        "import re\n",
        "s=input()\n",
        "l=s.split()\n",
        "s1=l[0]\n",
        "m=l[1]\n",
        "def check(a,b):\n",
        "  match=re.search(a,b)\n",
        "  if(match):\n",
        "    return 'Yes'\n",
        "  else:\n",
        "    return 'No'\n",
        "check(m,s1)"
      ],
      "execution_count": null,
      "outputs": [
        {
          "output_type": "stream",
          "text": [
            "no ni\n"
          ],
          "name": "stdout"
        },
        {
          "output_type": "execute_result",
          "data": {
            "application/vnd.google.colaboratory.intrinsic+json": {
              "type": "string"
            },
            "text/plain": [
              "'No'"
            ]
          },
          "metadata": {
            "tags": []
          },
          "execution_count": 9
        }
      ]
    },
    {
      "cell_type": "code",
      "metadata": {
        "id": "Dsm3s5EtBvcj",
        "colab": {
          "base_uri": "https://localhost:8080/",
          "height": 34
        },
        "outputId": "d6451c15-e0e6-43ef-e258-f29f1f5a1132"
      },
      "source": [
        "s='madam mam'\n",
        "l=s.count('m')\n",
        "print(l)"
      ],
      "execution_count": null,
      "outputs": [
        {
          "output_type": "stream",
          "text": [
            "4\n"
          ],
          "name": "stdout"
        }
      ]
    },
    {
      "cell_type": "code",
      "metadata": {
        "id": "D4ggPBgFCRIL",
        "colab": {
          "base_uri": "https://localhost:8080/",
          "height": 101
        },
        "outputId": "adf8f781-06d6-4784-ce53-7e97e6b21cf4"
      },
      "source": [
        "n=int(input())\n",
        "l1=[]\n",
        "for i in range(0,n):\n",
        "  s=input()\n",
        "  l=s.split()\n",
        "  s1=l[0]\n",
        "  m=l[1]\n",
        "  ans=check(m,s1)\n",
        "  l1.append(ans)\n",
        "for i in l1:\n",
        "  print(i)\n"
      ],
      "execution_count": null,
      "outputs": [
        {
          "output_type": "stream",
          "text": [
            "2\n",
            "m m\n",
            "M m\n",
            "Yes\n",
            "No\n"
          ],
          "name": "stdout"
        }
      ]
    },
    {
      "cell_type": "code",
      "metadata": {
        "id": "OTKJVQkQDXax",
        "colab": {
          "base_uri": "https://localhost:8080/",
          "height": 34
        },
        "outputId": "8537a7d9-c751-482a-b76d-b1862c2f39f3"
      },
      "source": [
        "s='subramanyam'\n",
        "vowles='aeiou'\n",
        "for i in s:\n",
        "  if(i not in vowles):\n",
        "    print(i,end=\"\")"
      ],
      "execution_count": null,
      "outputs": [
        {
          "output_type": "stream",
          "text": [
            "sbrmnym"
          ],
          "name": "stdout"
        }
      ]
    },
    {
      "cell_type": "code",
      "metadata": {
        "id": "sSpf6GzuCu1v",
        "colab": {
          "base_uri": "https://localhost:8080/",
          "height": 101
        },
        "outputId": "eeb47578-59d1-488e-f39b-3c1e0f296b9a"
      },
      "source": [
        "n=int(input())\n",
        "for i in range(1,n):\n",
        "  for j in range(1,n):\n",
        "    print('*',end=\"\")\n",
        "  print()\n",
        "    "
      ],
      "execution_count": null,
      "outputs": [
        {
          "output_type": "stream",
          "text": [
            "5\n",
            "****\n",
            "****\n",
            "****\n",
            "****\n"
          ],
          "name": "stdout"
        }
      ]
    },
    {
      "cell_type": "code",
      "metadata": {
        "id": "e-U3NxcxE-bQ",
        "colab": {
          "base_uri": "https://localhost:8080/",
          "height": 34
        },
        "outputId": "c5af57cc-efbb-4261-c94d-febcff229352"
      },
      "source": [
        "n=25\n",
        "for i in range(2,n):\n",
        "  if(n%i==0):\n",
        "    print(i,end=' ',sep='X')"
      ],
      "execution_count": null,
      "outputs": [
        {
          "output_type": "stream",
          "text": [
            "5 "
          ],
          "name": "stdout"
        }
      ]
    },
    {
      "cell_type": "code",
      "metadata": {
        "id": "LleVDmzZUQy6",
        "colab": {
          "base_uri": "https://localhost:8080/",
          "height": 34
        },
        "outputId": "7b5321fe-9cc7-481a-8137-b4306f49546a"
      },
      "source": [
        "15%6"
      ],
      "execution_count": null,
      "outputs": [
        {
          "output_type": "execute_result",
          "data": {
            "text/plain": [
              "3"
            ]
          },
          "metadata": {
            "tags": []
          },
          "execution_count": 39
        }
      ]
    },
    {
      "cell_type": "markdown",
      "metadata": {
        "id": "ZYyLWS9fyZEv"
      },
      "source": [
        "Linked List"
      ]
    },
    {
      "cell_type": "code",
      "metadata": {
        "id": "_5k4MnenUh5m",
        "colab": {
          "background_save": true
        }
      },
      "source": [
        "#creating a node\n",
        "Class Node:\n",
        "def __init__(self,data):\n",
        "  self.data = data\n",
        "  self.next = None\n",
        "#creatig a head\n",
        "Class LL:\n",
        "def __init__(self):\n",
        "  self.head = None\n"
      ],
      "execution_count": null,
      "outputs": []
    },
    {
      "cell_type": "markdown",
      "metadata": {
        "id": "zGXYDJZNG2fD"
      },
      "source": [
        ""
      ]
    },
    {
      "cell_type": "markdown",
      "metadata": {
        "id": "ZHgsCZa5G0Fh"
      },
      "source": [
        "Intersection"
      ]
    },
    {
      "cell_type": "code",
      "metadata": {
        "id": "7YLUStSGyvUE",
        "colab": {
          "base_uri": "https://localhost:8080/",
          "height": 34
        },
        "outputId": "73546055-269c-447d-abd0-410e113932b0"
      },
      "source": [
        "A=[1,2,3,3,4,5,6]\n",
        "B=[3,3,5]\n",
        "res = []\n",
        "i, j = 0, 0 \n",
        "while(i < len(A) and j < len(B)):\n",
        "  if A[i] == B[j]:\n",
        "    res.append(A[i])\n",
        "    j += 1\n",
        "    i += 1\n",
        "  elif A[i] < B[j]:\n",
        "    i += 1\n",
        "  elif A[i] > B[j]:\n",
        "    j += 1\n",
        "print(res)"
      ],
      "execution_count": null,
      "outputs": [
        {
          "output_type": "stream",
          "text": [
            "[3, 3, 5]\n"
          ],
          "name": "stdout"
        }
      ]
    },
    {
      "cell_type": "code",
      "metadata": {
        "id": "PgN_PkasZ4Yu",
        "colab": {
          "base_uri": "https://localhost:8080/",
          "height": 34
        },
        "outputId": "e9ed37a6-3f3d-491d-b961-099de122fff2"
      },
      "source": [
        "s='babdc'\n",
        "ll=[]\n",
        "l=sorted(list(s))\n",
        "for i in range(0,len(l)):\n",
        "  print(l[i],l.count(l[i]),end=\"\",sep=\"\")\n",
        "  \n",
        "\n"
      ],
      "execution_count": null,
      "outputs": [
        {
          "output_type": "stream",
          "text": [
            "a1b2b2c1d1"
          ],
          "name": "stdout"
        }
      ]
    },
    {
      "cell_type": "code",
      "metadata": {
        "id": "p9EXFqLkeDHw",
        "colab": {
          "base_uri": "https://localhost:8080/",
          "height": 50
        },
        "outputId": "1bec72a1-5efc-44de-cb8e-6f08410fd120"
      },
      "source": [
        "l=[0,0,1,2,1]\n",
        "s=sorted(l)\n",
        "se=list(set(l))\n",
        "print(se)\n",
        "print(s)"
      ],
      "execution_count": null,
      "outputs": [
        {
          "output_type": "stream",
          "text": [
            "[0, 1, 2]\n",
            "[0, 0, 1, 1, 2]\n"
          ],
          "name": "stdout"
        }
      ]
    },
    {
      "cell_type": "code",
      "metadata": {
        "id": "Mu2avXL7jJBs",
        "colab": {
          "base_uri": "https://localhost:8080/",
          "height": 34
        },
        "outputId": "f2326d16-7269-434e-8c33-5429cee72d19"
      },
      "source": [
        "n=10\n",
        "n2=15\n",
        "l=[]\n",
        "for i in range(n,n2):\n",
        "  for j in range(n+1,n2+1):\n",
        "    ans=i^j\n",
        "    l.append(ans)\n",
        "print(max(l))\n"
      ],
      "execution_count": null,
      "outputs": [
        {
          "output_type": "stream",
          "text": [
            "7\n"
          ],
          "name": "stdout"
        }
      ]
    },
    {
      "cell_type": "code",
      "metadata": {
        "id": "nw9LN38LkI9z",
        "colab": {
          "base_uri": "https://localhost:8080/",
          "height": 34
        },
        "outputId": "9613ed7d-f8ea-4df3-ee47-a16736d4ffa4"
      },
      "source": [
        "arr=[5,4,5,3,7]  \n",
        "for i in range(0,len(arr)):\n",
        "  if(arr[i]==max(arr[i:])):\n",
        "    print(arr[i],end=\" \")\n",
        "  "
      ],
      "execution_count": null,
      "outputs": [
        {
          "output_type": "stream",
          "text": [
            "7 "
          ],
          "name": "stdout"
        }
      ]
    },
    {
      "cell_type": "code",
      "metadata": {
        "id": "CkDjE7zJmUM1"
      },
      "source": [
        "def gcd(a,b):\n",
        "  if(b==0):\n",
        "    return a\n",
        "  return gcd(b,a%b)\n"
      ],
      "execution_count": null,
      "outputs": []
    },
    {
      "cell_type": "code",
      "metadata": {
        "id": "8tgKY_8LdjI6",
        "colab": {
          "base_uri": "https://localhost:8080/"
        },
        "outputId": "24e19c6c-e61b-40d0-defb-f66af752e97c"
      },
      "source": [
        "print(gcd(98,56))"
      ],
      "execution_count": null,
      "outputs": [
        {
          "output_type": "stream",
          "text": [
            "14\n"
          ],
          "name": "stdout"
        }
      ]
    },
    {
      "cell_type": "code",
      "metadata": {
        "id": "tNSujJsOdvtC",
        "colab": {
          "base_uri": "https://localhost:8080/"
        },
        "outputId": "a90719dc-c080-4ce9-fabe-e6293065e570"
      },
      "source": [
        "print(int('00000010100101000001111010011100',2))\n",
        "    "
      ],
      "execution_count": null,
      "outputs": [
        {
          "output_type": "stream",
          "text": [
            "43261596\n"
          ],
          "name": "stdout"
        }
      ]
    },
    {
      "cell_type": "code",
      "metadata": {
        "id": "dRHyuQ4Bk8N_",
        "colab": {
          "base_uri": "https://localhost:8080/",
          "height": 246
        },
        "outputId": "4bfcc588-a00b-435b-ddd2-dd6f9df95101"
      },
      "source": [
        "n=[\"abcw\",\"baz\",\"foo\",\"bar\",\"xtfn\",\"abcdef\"]\n",
        "l=[]\n",
        "for i in range(0,len(n)):\n",
        "  l.append(len(n[i]))\n",
        "print(l)"
      ],
      "execution_count": null,
      "outputs": [
        {
          "output_type": "stream",
          "text": [
            "[4, 3, 3, 3, 4, 6]\n"
          ],
          "name": "stdout"
        },
        {
          "output_type": "error",
          "ename": "TypeError",
          "evalue": "ignored",
          "traceback": [
            "\u001b[0;31m---------------------------------------------------------------------------\u001b[0m",
            "\u001b[0;31mTypeError\u001b[0m                                 Traceback (most recent call last)",
            "\u001b[0;32m<ipython-input-45-a0f149a1d867>\u001b[0m in \u001b[0;36m<module>\u001b[0;34m()\u001b[0m\n\u001b[1;32m      6\u001b[0m \u001b[0;32mfor\u001b[0m \u001b[0mi\u001b[0m \u001b[0;32min\u001b[0m \u001b[0mrange\u001b[0m\u001b[0;34m(\u001b[0m\u001b[0;36m0\u001b[0m\u001b[0;34m,\u001b[0m\u001b[0mlen\u001b[0m\u001b[0;34m(\u001b[0m\u001b[0ml\u001b[0m\u001b[0;34m)\u001b[0m\u001b[0;34m)\u001b[0m\u001b[0;34m:\u001b[0m\u001b[0;34m\u001b[0m\u001b[0;34m\u001b[0m\u001b[0m\n\u001b[1;32m      7\u001b[0m   \u001b[0;32mfor\u001b[0m \u001b[0mj\u001b[0m \u001b[0;32min\u001b[0m \u001b[0mrange\u001b[0m\u001b[0;34m(\u001b[0m\u001b[0;36m1\u001b[0m\u001b[0;34m,\u001b[0m\u001b[0mlen\u001b[0m\u001b[0;34m(\u001b[0m\u001b[0ml\u001b[0m\u001b[0;34m)\u001b[0m\u001b[0;34m)\u001b[0m\u001b[0;34m:\u001b[0m\u001b[0;34m\u001b[0m\u001b[0;34m\u001b[0m\u001b[0m\n\u001b[0;32m----> 8\u001b[0;31m     \u001b[0;32mif\u001b[0m\u001b[0;34m(\u001b[0m\u001b[0mlen\u001b[0m\u001b[0;34m(\u001b[0m\u001b[0ml\u001b[0m\u001b[0;34m[\u001b[0m\u001b[0mi\u001b[0m\u001b[0;34m]\u001b[0m\u001b[0;34m)\u001b[0m\u001b[0;34m==\u001b[0m\u001b[0mlen\u001b[0m\u001b[0;34m(\u001b[0m\u001b[0ml\u001b[0m\u001b[0;34m[\u001b[0m\u001b[0mj\u001b[0m\u001b[0;34m]\u001b[0m\u001b[0;34m)\u001b[0m\u001b[0;34m)\u001b[0m\u001b[0;34m:\u001b[0m\u001b[0;34m\u001b[0m\u001b[0;34m\u001b[0m\u001b[0m\n\u001b[0m\u001b[1;32m      9\u001b[0m       \u001b[0ma\u001b[0m\u001b[0;34m=\u001b[0m\u001b[0ml\u001b[0m\u001b[0;34m[\u001b[0m\u001b[0mi\u001b[0m\u001b[0;34m]\u001b[0m\u001b[0;34m*\u001b[0m\u001b[0ml\u001b[0m\u001b[0;34m[\u001b[0m\u001b[0mj\u001b[0m\u001b[0;34m]\u001b[0m\u001b[0;34m\u001b[0m\u001b[0;34m\u001b[0m\u001b[0m\n\u001b[1;32m     10\u001b[0m       \u001b[0mprint\u001b[0m\u001b[0;34m(\u001b[0m\u001b[0ma\u001b[0m\u001b[0;34m)\u001b[0m\u001b[0;34m\u001b[0m\u001b[0;34m\u001b[0m\u001b[0m\n",
            "\u001b[0;31mTypeError\u001b[0m: object of type 'int' has no len()"
          ]
        }
      ]
    },
    {
      "cell_type": "code",
      "metadata": {
        "id": "BK-DsmMHsNmL",
        "colab": {
          "base_uri": "https://localhost:8080/"
        },
        "outputId": "ec673f69-717f-48f7-e29e-9ac7b788dff2"
      },
      "source": [
        "print(hex(-1)[2:])"
      ],
      "execution_count": null,
      "outputs": [
        {
          "output_type": "stream",
          "text": [
            "x1\n"
          ],
          "name": "stdout"
        }
      ]
    },
    {
      "cell_type": "code",
      "metadata": {
        "id": "Z8cJs_tDoJag",
        "colab": {
          "base_uri": "https://localhost:8080/"
        },
        "outputId": "9a63d947-c205-4680-ac5d-13e2850df7c1"
      },
      "source": [
        "nums1=[4,1,2]\n",
        "nums2=[1,3,4,2]\n",
        "\n",
        "for i in range(0,len(nums1)):\n",
        "  if(nums1[i] in nums2):\n",
        "    if(nums2[i]<nums2[i+1]):\n",
        "      print(nums2[i+1])\n",
        "    else:\n",
        "    print(-1)"
      ],
      "execution_count": null,
      "outputs": [
        {
          "output_type": "stream",
          "text": [
            "3\n",
            "4\n",
            "2\n"
          ],
          "name": "stdout"
        }
      ]
    },
    {
      "cell_type": "code",
      "metadata": {
        "id": "9BZrz5qLvrPm",
        "colab": {
          "base_uri": "https://localhost:8080/"
        },
        "outputId": "f56cbd35-3ee9-49c9-b25b-f86ed0a5e145"
      },
      "source": [
        "nums1=[4,1,2]\n",
        "nums2=[1,3,4,2]\n",
        "for i in range(0,len(nums1)):\n",
        "  if(nums1[i] in nums2):\n",
        "    if(nums1[i]<nums2[i]):\n",
        "      print(nums2[i])\n",
        "    else:\n",
        "      print(-1)"
      ],
      "execution_count": null,
      "outputs": [
        {
          "output_type": "stream",
          "text": [
            "-1\n",
            "3\n",
            "4\n"
          ],
          "name": "stdout"
        }
      ]
    },
    {
      "cell_type": "code",
      "metadata": {
        "id": "e_jJkITkw1KQ",
        "colab": {
          "base_uri": "https://localhost:8080/"
        },
        "outputId": "032d489a-942b-44fe-9e65-a023d47cbcd2"
      },
      "source": [
        "l=[1,2,3,1]\n",
        "\n",
        "for i in range(0,len(l)):\n",
        "  if(l[i]>l[i-1] and l[i]>l[i+1]):\n",
        "    print(l.index(l[i]))\n",
        "    break"
      ],
      "execution_count": null,
      "outputs": [
        {
          "output_type": "stream",
          "text": [
            "2\n"
          ],
          "name": "stdout"
        }
      ]
    },
    {
      "cell_type": "code",
      "metadata": {
        "id": "uC_eNDvJqIo7",
        "colab": {
          "base_uri": "https://localhost:8080/",
          "height": 229
        },
        "outputId": "2b0ae8fe-2413-4e3a-a095-ef8b056365ed"
      },
      "source": [
        "n=[\"a\", \"banana\", \"app\", \"appl\", \"ap\", \"apply\", \"apple\"]\n",
        "n.sort()\n",
        "print(n)\n",
        "a=n[0]\n",
        "for i in range(0,len(n)):\n",
        "  if(n[i] not in a):\n",
        "    \n",
        "print(a)"
      ],
      "execution_count": null,
      "outputs": [
        {
          "output_type": "stream",
          "text": [
            "['a', 'ap', 'app', 'appl', 'apple', 'apply', 'banana']\n"
          ],
          "name": "stdout"
        },
        {
          "output_type": "error",
          "ename": "TypeError",
          "evalue": "ignored",
          "traceback": [
            "\u001b[0;31m---------------------------------------------------------------------------\u001b[0m",
            "\u001b[0;31mTypeError\u001b[0m                                 Traceback (most recent call last)",
            "\u001b[0;32m<ipython-input-6-3b3018244d04>\u001b[0m in \u001b[0;36m<module>\u001b[0;34m()\u001b[0m\n\u001b[1;32m      5\u001b[0m \u001b[0;32mfor\u001b[0m \u001b[0mi\u001b[0m \u001b[0;32min\u001b[0m \u001b[0mrange\u001b[0m\u001b[0;34m(\u001b[0m\u001b[0;36m0\u001b[0m\u001b[0;34m,\u001b[0m\u001b[0mlen\u001b[0m\u001b[0;34m(\u001b[0m\u001b[0mn\u001b[0m\u001b[0;34m)\u001b[0m\u001b[0;34m)\u001b[0m\u001b[0;34m:\u001b[0m\u001b[0;34m\u001b[0m\u001b[0;34m\u001b[0m\u001b[0m\n\u001b[1;32m      6\u001b[0m   \u001b[0;32mif\u001b[0m\u001b[0;34m(\u001b[0m\u001b[0mn\u001b[0m\u001b[0;34m[\u001b[0m\u001b[0mi\u001b[0m\u001b[0;34m]\u001b[0m \u001b[0;32mnot\u001b[0m \u001b[0;32min\u001b[0m \u001b[0ma\u001b[0m\u001b[0;34m)\u001b[0m\u001b[0;34m:\u001b[0m\u001b[0;34m\u001b[0m\u001b[0;34m\u001b[0m\u001b[0m\n\u001b[0;32m----> 7\u001b[0;31m     \u001b[0ma\u001b[0m\u001b[0;34m+=\u001b[0m\u001b[0;36m1\u001b[0m\u001b[0;34m\u001b[0m\u001b[0;34m\u001b[0m\u001b[0m\n\u001b[0m\u001b[1;32m      8\u001b[0m \u001b[0mprint\u001b[0m\u001b[0;34m(\u001b[0m\u001b[0ma\u001b[0m\u001b[0;34m)\u001b[0m\u001b[0;34m\u001b[0m\u001b[0;34m\u001b[0m\u001b[0m\n",
            "\u001b[0;31mTypeError\u001b[0m: must be str, not int"
          ]
        }
      ]
    },
    {
      "cell_type": "code",
      "metadata": {
        "id": "4G5qcopOD8YM",
        "colab": {
          "base_uri": "https://localhost:8080/"
        },
        "outputId": "442b4946-35f2-4608-8fd9-f10cfec6b4b2"
      },
      "source": [
        "l=[4, 2, -3, 1, 6]\n",
        "c=0\n",
        "sum=0\n",
        "s=set()\n",
        "for i in l:\n",
        "  s.add(sum)\n",
        "  sum+=i\n",
        "  if(sum in s):\n",
        "    print('True')\n",
        "    break\n",
        "else:\n",
        "  print('False')\n",
        "\n"
      ],
      "execution_count": null,
      "outputs": [
        {
          "output_type": "stream",
          "text": [
            "True\n"
          ],
          "name": "stdout"
        }
      ]
    },
    {
      "cell_type": "markdown",
      "metadata": {
        "id": "KvxF7IRHehvS"
      },
      "source": [
        "Smallest Kth element"
      ]
    },
    {
      "cell_type": "code",
      "metadata": {
        "id": "g5ksFbuirEzp",
        "colab": {
          "base_uri": "https://localhost:8080/"
        },
        "outputId": "705154b4-1d41-4b8d-8b2f-04908a72ff8a"
      },
      "source": [
        "k=int(input())\n",
        "l=list(map(int,input().split()))\n",
        "s=list(set(l))\n",
        "so=sorted(s)\n",
        "if(k>len(so)):\n",
        "  print('NULL')\n",
        "else:\n",
        "  print(so[k-1])\n"
      ],
      "execution_count": null,
      "outputs": [
        {
          "output_type": "stream",
          "text": [
            "4\n",
            "7 10 4 3 20 15\n",
            "10\n"
          ],
          "name": "stdout"
        }
      ]
    },
    {
      "cell_type": "code",
      "metadata": {
        "id": "EYS5GeHke6Nf",
        "colab": {
          "base_uri": "https://localhost:8080/"
        },
        "outputId": "ae31e635-4b83-43c2-dba6-f4fb8858838c"
      },
      "source": [
        "st=input()\n",
        "li=list(st)\n",
        "l=[int(x) for x in li]\n",
        "s=[]\n",
        "for i in range(0,len(l)-1):\n",
        "  s.append(l[i])\n",
        "  if(l[i]%2==0 and l[i+1]%2==0):\n",
        "    s.append(\"*\")\n",
        "  if(l[i]%2==1 and l[i+1]%2==1):\n",
        "    s.append('-')\n",
        "s.append(l[-1])\n",
        "print(*s,sep=\"\")\n"
      ],
      "execution_count": null,
      "outputs": [
        {
          "output_type": "stream",
          "text": [
            "214626\n",
            "214*6*2*6\n"
          ],
          "name": "stdout"
        }
      ]
    },
    {
      "cell_type": "code",
      "metadata": {
        "id": "Wtkeo-eWfyht",
        "colab": {
          "base_uri": "https://localhost:8080/"
        },
        "outputId": "cb2b277c-1b56-41f3-a445-a5d5c432f53e"
      },
      "source": [
        "s='x+5-3+x=6+x-2'\n",
        "c=0\n",
        "for i in s:\n",
        "  if(i=='x'):\n",
        "    c+=1\n",
        "l=[]\n",
        "for i in s:\n",
        "  if(i!='x'):\n",
        "    l.append(i)\n",
        "print(l)\n",
        "\n"
      ],
      "execution_count": null,
      "outputs": [
        {
          "output_type": "stream",
          "text": [
            "['+', '5', '-', '3', '+', '=', '6', '+', '-', '2']\n"
          ],
          "name": "stdout"
        }
      ]
    },
    {
      "cell_type": "code",
      "metadata": {
        "id": "xmndfNlrj9yd",
        "colab": {
          "base_uri": "https://localhost:8080/"
        },
        "outputId": "a01d296b-08dd-4fa7-ced0-20aa763270c9"
      },
      "source": [
        " nums = [1,7,3,6,5,6]\n",
        "\n",
        " for i in range(0,len(nums)):\n",
        "   a1=sum(nums[:i])\n",
        "   a2=sum(nums[i+1:])\n",
        "   if(a1==a2):\n",
        "     print(i)\n",
        "\n",
        "\n",
        "\n",
        "  "
      ],
      "execution_count": null,
      "outputs": [
        {
          "output_type": "stream",
          "text": [
            "3\n"
          ],
          "name": "stdout"
        }
      ]
    },
    {
      "cell_type": "code",
      "metadata": {
        "id": "THiMw44-lPC7",
        "colab": {
          "base_uri": "https://localhost:8080/"
        },
        "outputId": "dea79e05-46ea-4ebe-fadc-cf7f9a5107cf"
      },
      "source": [
        "s='FLaG'\n",
        "for i in s:\n",
        "  if(i.upper()):\n",
        "    a='true'\n",
        "  elif(s[0].upper() and s[0:].lower()):\n",
        "    a='true'\n",
        "  else:\n",
        "    a='false'\n",
        "print(a)\n"
      ],
      "execution_count": null,
      "outputs": [
        {
          "output_type": "stream",
          "text": [
            "true\n"
          ],
          "name": "stdout"
        }
      ]
    },
    {
      "cell_type": "code",
      "metadata": {
        "id": "R_uK5c9kEcTQ",
        "colab": {
          "base_uri": "https://localhost:8080/"
        },
        "outputId": "f6c934f9-8bf0-4738-a490-a3b2e173c228"
      },
      "source": [
        "l=[\"bella\",\"label\",\"roller\"]\n",
        "str1 = \" \" \n",
        "a=str1.join(l)\n",
        "ans=list(a)\n",
        "empty=[]\n",
        "for i in ans:\n",
        "  if(ans.count(i)>=3 and ans.count(i)!=4):\n",
        "    o=i\n",
        "    empty.append(o)\n",
        "print(empty)"
      ],
      "execution_count": null,
      "outputs": [
        {
          "output_type": "stream",
          "text": [
            "['e', 'l', 'l', 'l', 'e', 'l', 'l', 'l', 'e']\n"
          ],
          "name": "stdout"
        }
      ]
    },
    {
      "cell_type": "code",
      "metadata": {
        "id": "fhHIZ_jjGaRX",
        "colab": {
          "base_uri": "https://localhost:8080/"
        },
        "outputId": "360daf92-eae7-4cbb-8ddd-fc40c450655d"
      },
      "source": [
        "s='nobita'\n",
        "l=list(s)\n",
        "ll=[]\n",
        "v=['a','e','i','o','u']\n",
        "for i in l:\n",
        "  if(i in v):\n",
        "    a=s.replace(i,'@')\n",
        "    ll.append(a)\n",
        "print(ll)\n",
        "\n",
        "\n"
      ],
      "execution_count": null,
      "outputs": [
        {
          "output_type": "stream",
          "text": [
            "['n@bita', 'nob@ta', 'nobit@']\n"
          ],
          "name": "stdout"
        }
      ]
    },
    {
      "cell_type": "code",
      "metadata": {
        "id": "givs2MFC6iMM",
        "colab": {
          "base_uri": "https://localhost:8080/"
        },
        "outputId": "87030897-bc50-4afb-dafc-5dd7b21231ac"
      },
      "source": [
        "N=10\n",
        "n=int(input())\n",
        "if(n>10 or n==0):\n",
        "  print('INVALID INPUT')\n",
        "  print('NUMBER OF CANDIES AVALIABLE:',N)\n",
        "else:\n",
        "  print('NUMBER OF CANDIES SOLD:',n)\n",
        "  print('NUMBER OF CANDIES AVALIABLE:',N-n)\n",
        "\n",
        "\n",
        "    "
      ],
      "execution_count": null,
      "outputs": [
        {
          "output_type": "stream",
          "text": [
            "5\n",
            "NUMBER OF CANDIES SOLD: 5\n",
            "NUMBER OF CANDIES AVALIABLE: 5\n"
          ],
          "name": "stdout"
        }
      ]
    },
    {
      "cell_type": "code",
      "metadata": {
        "id": "Uzes0lXwBHMn",
        "colab": {
          "base_uri": "https://localhost:8080/"
        },
        "outputId": "fa22aa18-11b1-4ae0-8995-c35d5deb7cfe"
      },
      "source": [
        "n=int(input())\n",
        "if(n>7000):\n",
        "  print('Invalid')\n",
        "if(n<=2000):\n",
        "  print(\"Time Estimated: 25 minutes\")\n",
        "elif(n>=2001 and n<=4000):\n",
        "  print(\"Time Estimated: 35 minutes\")\n",
        "elif(n>4000):\n",
        "  print(\"Time Estimated: 45 minutes\")\n",
        "  "
      ],
      "execution_count": null,
      "outputs": [
        {
          "output_type": "stream",
          "text": [
            "2200\n",
            "Time Estimated: 35 minutes\n"
          ],
          "name": "stdout"
        }
      ]
    },
    {
      "cell_type": "code",
      "metadata": {
        "id": "aQqIytvdEjAf"
      },
      "source": [
        "s='All the best'\n",
        "key=1\n",
        "def custom(key,s):\n",
        "  "
      ],
      "execution_count": null,
      "outputs": []
    },
    {
      "cell_type": "code",
      "metadata": {
        "id": "35leu_3UF3en",
        "colab": {
          "base_uri": "https://localhost:8080/"
        },
        "outputId": "c0716560-e37c-472a-f05d-626c6df19bc8"
      },
      "source": [
        "s='All the best'\n",
        "key=1\n",
        "l=[]\n",
        "for i in s:\n",
        "  a=ord(i)-96\n",
        "  l.append(a)\n",
        "li=[abs(x) for x in l]\n",
        "print(li)\n",
        "final=[]\n",
        "for i in range(0,len(li)):\n",
        "  a=li[i]+key\n",
        "  final.append(a)\n",
        "print(final)\n",
        "fo=[]\n",
        "for i in range(0,len(final)):\n",
        "  if(final[i]>31):\n",
        "    ans=chr(ord('@')+final[i])\n",
        "    fo.append(ans)\n",
        "  else:\n",
        "    an=chr(ord('`')+final[i])\n",
        "    fo.append(an)\n",
        "print(*fo)\n",
        "\n"
      ],
      "execution_count": null,
      "outputs": [
        {
          "output_type": "stream",
          "text": [
            "[31, 12, 12, 64, 20, 8, 5, 64, 2, 5, 19, 20]\n",
            "[32, 13, 13, 65, 21, 9, 6, 65, 3, 6, 20, 21]\n",
            "` m m  u i f  c f t u\n"
          ],
          "name": "stdout"
        }
      ]
    },
    {
      "cell_type": "code",
      "metadata": {
        "id": "8iwbLAJEGOUZ",
        "colab": {
          "base_uri": "https://localhost:8080/"
        },
        "outputId": "6032cb5c-2872-46b8-ee4c-8ff8deeb3664"
      },
      "source": [
        "interior=int(input())\n",
        "exterior = int(input())\n",
        "iinti=[]\n",
        "eetri=[]\n",
        "for i in range(0,interior):\n",
        "  inti=float(input())\n",
        "  iinti.append(inti)\n",
        "for i in range(0,exterior):\n",
        "  extri=float(input())\n",
        "  eetri.append(extri)\n",
        "sum1=sum(iinti)\n",
        "sum2=sum(eetri)\n",
        "ans=(sum1*18)+(sum2*12)\n",
        "print('Total Estimated Cost:',ans,'INR')\n",
        "\n",
        "\n"
      ],
      "execution_count": null,
      "outputs": [
        {
          "output_type": "stream",
          "text": [
            "2\n",
            "2\n",
            "12.2\n",
            "12.3\n",
            "10.00\n",
            "10.10\n",
            "Total Estimated Cost: 682.2 INR\n"
          ],
          "name": "stdout"
        }
      ]
    },
    {
      "cell_type": "code",
      "metadata": {
        "id": "OwY2IHf1KKAR",
        "colab": {
          "base_uri": "https://localhost:8080/"
        },
        "outputId": "808744a5-b671-4189-82cb-80e1dd4683b3"
      },
      "source": [
        "l=[1,2,3,4,5,6,7]\n",
        "print(l[6:2])"
      ],
      "execution_count": null,
      "outputs": [
        {
          "output_type": "stream",
          "text": [
            "[]\n"
          ],
          "name": "stdout"
        }
      ]
    },
    {
      "cell_type": "code",
      "metadata": {
        "id": "RCdZL44gN06A",
        "colab": {
          "base_uri": "https://localhost:8080/"
        },
        "outputId": "bafb4653-f7c7-4335-e874-3a6a71deeecc"
      },
      "source": [
        "s='abababcdefababcdab'\n",
        "print(len(set(s)))"
      ],
      "execution_count": null,
      "outputs": [
        {
          "output_type": "stream",
          "text": [
            "6\n"
          ],
          "name": "stdout"
        }
      ]
    },
    {
      "cell_type": "code",
      "metadata": {
        "id": "0mWoMi8PuqZn",
        "colab": {
          "base_uri": "https://localhost:8080/"
        },
        "outputId": "69037b96-01bf-4dc6-8f5c-1fe8b7629e10"
      },
      "source": [
        "n=int(input())\n",
        "while(n!=0):\n",
        "    s=input()\n",
        "    print(len(set(s)))\n",
        "    n-=1"
      ],
      "execution_count": null,
      "outputs": [
        {
          "output_type": "stream",
          "text": [
            "2\n",
            "abababcdefababcdab\n",
            "6\n",
            "geeks\n",
            "4\n"
          ],
          "name": "stdout"
        }
      ]
    },
    {
      "cell_type": "code",
      "metadata": {
        "id": "S-p6lmY7u30A",
        "colab": {
          "base_uri": "https://localhost:8080/"
        },
        "outputId": "6dec5a40-8758-4f3e-eb22-8106c4010897"
      },
      "source": [
        "a=bin(3)\n",
        "print(a[2:])"
      ],
      "execution_count": null,
      "outputs": [
        {
          "output_type": "stream",
          "text": [
            "11\n"
          ],
          "name": "stdout"
        }
      ]
    },
    {
      "cell_type": "code",
      "metadata": {
        "id": "BXXcyjlex7o6",
        "colab": {
          "base_uri": "https://localhost:8080/"
        },
        "outputId": "110f2cd7-d891-4b35-805e-96673177d956"
      },
      "source": [
        "n=int(input())\n",
        "em=[]\n",
        "while(n!=0):\n",
        "  num=int(input())\n",
        "  l=list(map(int,input().split()))\n",
        "  numb=int(input())\n",
        "  if(numb in l):\n",
        "    ans=l.index(numb)\n",
        "    em.append(ans)\n",
        "  else:\n",
        "    em.append(-1)\n",
        "  n-=1\n",
        "for i in em:\n",
        "  print(i)"
      ],
      "execution_count": null,
      "outputs": [
        {
          "output_type": "stream",
          "text": [
            "2\n",
            "5\n",
            "1 2 3 4 5 \n",
            "4\n",
            "5\n",
            "11 22 33 44 55\n",
            "445\n",
            "3\n",
            "-1\n"
          ],
          "name": "stdout"
        }
      ]
    },
    {
      "cell_type": "code",
      "metadata": {
        "id": "rBVjYxW0zVXr",
        "colab": {
          "base_uri": "https://localhost:8080/"
        },
        "outputId": "cf087f9b-adf1-4331-b0c9-feff64e9714c"
      },
      "source": [
        "s=input()\n",
        "num=['0','1','2','3','4','5','6','7','8','9']\n",
        "l=s.split()\n",
        "em=[]\n",
        "for i in range(0,len(l)):\n",
        "  if(l[i][0] in num):\n",
        "    em.append(l[i])\n",
        "ansl=[int(x)for x in em]\n",
        "print(max(ansl))"
      ],
      "execution_count": null,
      "outputs": [
        {
          "output_type": "stream",
          "text": [
            "This is alpha 5057 and 97\n",
            "5057\n"
          ],
          "name": "stdout"
        }
      ]
    },
    {
      "cell_type": "code",
      "metadata": {
        "id": "w7S-hFzT5LgR",
        "colab": {
          "base_uri": "https://localhost:8080/"
        },
        "outputId": "9281f25d-bd2e-4144-8512-c27bcf0cd77d"
      },
      "source": [
        "s='geeksforgeeks'\n",
        "se=set()\n",
        "c=0\n",
        "l=list(s)\n",
        "for i in l:\n",
        "  if(i in se):\n",
        "    c=1\n",
        "    break\n",
        "  else:\n",
        "    se.add(i)\n",
        "if(c==1):\n",
        "  print(i)\n",
        "else:\n",
        "  print(-1)"
      ],
      "execution_count": null,
      "outputs": [
        {
          "output_type": "stream",
          "text": [
            "e\n"
          ],
          "name": "stdout"
        }
      ]
    },
    {
      "cell_type": "code",
      "metadata": {
        "id": "brs5fuyt53Fb"
      },
      "source": [
        "def factors(x):\n",
        "  l=[]\n",
        "  for i in range(1, x + 1):\n",
        "    if x % i == 0:\n",
        "      l.append(i)\n",
        "  return(l)\n",
        "           "
      ],
      "execution_count": null,
      "outputs": []
    },
    {
      "cell_type": "code",
      "metadata": {
        "id": "P0dh038C-U90",
        "colab": {
          "base_uri": "https://localhost:8080/"
        },
        "outputId": "0725d82f-2525-4f26-b8ae-61ee32c4178c"
      },
      "source": [
        "n=6\n",
        "l=factors(6)\n",
        "exp=sum(l[:-1])\n",
        "if(exp==n):\n",
        "  print(1)\n",
        "else:\n",
        "  print(0)"
      ],
      "execution_count": null,
      "outputs": [
        {
          "output_type": "stream",
          "text": [
            "1\n"
          ],
          "name": "stdout"
        }
      ]
    },
    {
      "cell_type": "code",
      "metadata": {
        "id": "ESpt2MGq-fL7",
        "colab": {
          "base_uri": "https://localhost:8080/"
        },
        "outputId": "c047c87d-2968-4d93-fe5d-152665f25955"
      },
      "source": [
        "s='abcdefg'\n",
        "n=3\n",
        "l=list(s)\n",
        "em=[]\n",
        "for i in range(0,len(l)):\n",
        "  if(i%n==0):\n",
        "    em.append(l[i])\n",
        "print(em)"
      ],
      "execution_count": null,
      "outputs": [
        {
          "output_type": "stream",
          "text": [
            "['a', 'd', 'g']\n"
          ],
          "name": "stdout"
        }
      ]
    },
    {
      "cell_type": "code",
      "metadata": {
        "id": "yi5Uaom0333W",
        "colab": {
          "base_uri": "https://localhost:8080/"
        },
        "outputId": "76fd4514-3fb5-4792-a694-70cfd16a3e9f"
      },
      "source": [
        "l1=[1,2,4,4,6]\n",
        "l2=[2,4,3]\n",
        "c=len(l2)\n",
        "for i in range(0,len(l2)):\n",
        "  if(l2[i] in l1):\n",
        "    c-=1\n",
        "if(c>0):\n",
        "  print(False)\n",
        "else:\n",
        "  print(True)"
      ],
      "execution_count": null,
      "outputs": [
        {
          "output_type": "stream",
          "text": [
            "False\n"
          ],
          "name": "stdout"
        }
      ]
    },
    {
      "cell_type": "code",
      "metadata": {
        "id": "ivFJrJ4zTHuF",
        "colab": {
          "base_uri": "https://localhost:8080/"
        },
        "outputId": "5a987357-9934-42b4-e44c-a84ac3bd9724"
      },
      "source": [
        "l=[1,2,1]\n",
        "em=[]\n",
        "for i in range(0,len(l)-1):\n",
        "  if(l[i]==2 and l[i+1]==2):\n",
        "    em.append(l[i])\n",
        "    em.append(l[i+1])\n",
        "\n",
        "if(em==[2,2]):\n",
        "  print(True)\n",
        "else:\n",
        "  print(False)\n",
        "\n",
        "\n",
        "\n",
        "\n",
        "\n",
        "\n",
        "\n",
        "\n",
        "\n",
        "\n",
        "\n",
        "\n",
        "\n",
        "\n",
        "\n",
        "\n"
      ],
      "execution_count": null,
      "outputs": [
        {
          "output_type": "stream",
          "text": [
            "False\n"
          ],
          "name": "stdout"
        }
      ]
    },
    {
      "cell_type": "code",
      "metadata": {
        "id": "l8a2WIQcacwx",
        "colab": {
          "base_uri": "https://localhost:8080/"
        },
        "outputId": "49fb4a17-35a3-43b1-a82a-79020df56ee8"
      },
      "source": [
        "print(int(26/5))"
      ],
      "execution_count": null,
      "outputs": [
        {
          "output_type": "stream",
          "text": [
            "5\n"
          ],
          "name": "stdout"
        }
      ]
    },
    {
      "cell_type": "code",
      "metadata": {
        "id": "pVQcsC6cj0Nm",
        "colab": {
          "base_uri": "https://localhost:8080/"
        },
        "outputId": "3c75ef5b-7d52-4dc3-80d8-ed7564e7e2ec"
      },
      "source": [
        "s='hi'\n",
        "print(s*3)"
      ],
      "execution_count": null,
      "outputs": [
        {
          "output_type": "stream",
          "text": [
            "hihihi\n"
          ],
          "name": "stdout"
        }
      ]
    },
    {
      "cell_type": "code",
      "metadata": {
        "id": "qoSDtfeZktKB",
        "colab": {
          "base_uri": "https://localhost:8080/"
        },
        "outputId": "e02be0ff-b68b-4d86-a3af-950cf7856851"
      },
      "source": [
        "s='Chocolate'\n",
        "print(s[:3])"
      ],
      "execution_count": null,
      "outputs": [
        {
          "output_type": "stream",
          "text": [
            "Cho\n"
          ],
          "name": "stdout"
        }
      ]
    },
    {
      "cell_type": "code",
      "metadata": {
        "id": "37N3NJdylFja",
        "colab": {
          "base_uri": "https://localhost:8080/"
        },
        "outputId": "56d7b1fe-996a-4c38-d38f-e0d6fd26c508"
      },
      "source": [
        "n=int(input())\n",
        "num=list(map(int,input().split()))\n",
        "l=[str(x) for x in num]\n",
        "l2=[]\n",
        "l3=[]\n",
        "l4=[]\n",
        "for i in l:\n",
        "  a=list(i)\n",
        "  l2.append(a)\n",
        "for i in l2:\n",
        "  b=[int(x) for x in i]\n",
        "  l3.append(b)\n",
        "for i in l3:\n",
        "  s=sum(i)\n",
        "  l4.append(s)\n",
        "print(*l4)\n",
        "\n",
        "\n",
        "\n"
      ],
      "execution_count": null,
      "outputs": [
        {
          "output_type": "stream",
          "text": [
            "4\n",
            "65 75\n",
            "11 12\n"
          ],
          "name": "stdout"
        }
      ]
    },
    {
      "cell_type": "code",
      "metadata": {
        "id": "u2EpjcK8ENKc",
        "colab": {
          "base_uri": "https://localhost:8080/"
        },
        "outputId": "bca7148a-33bc-426e-c617-0b090361d05b"
      },
      "source": [
        "s='Education'\n",
        "s1=s.lower()\n",
        "v=['a','e','i','o','u']\n",
        "for i in s1:\n",
        "  if(i not in v):\n",
        "    print(i,end=\"\")"
      ],
      "execution_count": null,
      "outputs": [
        {
          "output_type": "stream",
          "text": [
            "dctn"
          ],
          "name": "stdout"
        }
      ]
    },
    {
      "cell_type": "code",
      "metadata": {
        "id": "JNIp4GmUIWcJ",
        "colab": {
          "base_uri": "https://localhost:8080/"
        },
        "outputId": "8c85fbfa-2495-4882-cef0-d0f271b8cac7"
      },
      "source": [
        "l=[10,98,3,33,12,22,21,11]\n",
        "even=[]\n",
        "odd=[]\n",
        "for i in l:\n",
        "  if(i%2==0):\n",
        "    even.append(i)\n",
        "  else:\n",
        "    odd.append(i)\n",
        "print(even+odd)\n",
        "\n"
      ],
      "execution_count": null,
      "outputs": [
        {
          "output_type": "stream",
          "text": [
            "[10, 98, 12, 22, 3, 33, 21, 11]\n"
          ],
          "name": "stdout"
        }
      ]
    },
    {
      "cell_type": "code",
      "metadata": {
        "id": "VvVCwgOtJErz",
        "colab": {
          "base_uri": "https://localhost:8080/"
        },
        "outputId": "082a78fd-c94e-4e4a-a4eb-7fd6cc7dd91f"
      },
      "source": [
        "l=[0,0,1,1,1,2,2,3,3,4]\n",
        "s=set(l)\n",
        "l1=list(s)\n",
        "print(len(l1))"
      ],
      "execution_count": null,
      "outputs": [
        {
          "output_type": "stream",
          "text": [
            "5\n"
          ],
          "name": "stdout"
        }
      ]
    },
    {
      "cell_type": "code",
      "metadata": {
        "id": "bBA1CsBhJJVJ",
        "colab": {
          "base_uri": "https://localhost:8080/"
        },
        "outputId": "1d8733ba-df41-44ef-ddbf-93786e8969be"
      },
      "source": [
        "l=[2,16,12,24,18,9,2,8]\n",
        "em=[]\n",
        "for i in range(0,len(l)-1):\n",
        "  m=max(l[i+1:])\n",
        "  em.append(m)\n",
        "em.append(-1)\n",
        "print(em)\n"
      ],
      "execution_count": null,
      "outputs": [
        {
          "output_type": "stream",
          "text": [
            "[24, 24, 24, 18, 9, 8, 8, -1]\n"
          ],
          "name": "stdout"
        }
      ]
    },
    {
      "cell_type": "code",
      "metadata": {
        "id": "BroeEZWg7tXq",
        "colab": {
          "base_uri": "https://localhost:8080/"
        },
        "outputId": "c03fa951-0b7a-4535-99b5-9a857127a7c7"
      },
      "source": [
        "l=[\"bella\",\"label\",\"roller\"]\n",
        "em=[]\n",
        "li=[]\n",
        "for i in range(0,len(l)):\n",
        "  li=list(l[i])\n",
        "  em.append(li)\n",
        "for i in range(0,len(em)):\n",
        "  s=set(em[i])\n",
        "  lis=list(s)\n",
        "print(lis)"
      ],
      "execution_count": null,
      "outputs": [
        {
          "output_type": "stream",
          "text": [
            "['e', 'r', 'l', 'o']\n"
          ],
          "name": "stdout"
        }
      ]
    },
    {
      "cell_type": "code",
      "metadata": {
        "id": "lO_aM1-c-Bi0",
        "colab": {
          "base_uri": "https://localhost:8080/"
        },
        "outputId": "206ce683-6022-46d1-94d7-e29e969fb4f4"
      },
      "source": [
        "a=[13,12,-12,9,9,16,7,-10,-20,0,18,-1,-20,-10,-8,15,15,16,2,15]\n",
        "l=[abs(x) for x in a]\n",
        "s=sorted(l)\n",
        "em=[]\n",
        "for i in range(0,len(s)-1):\n",
        "  ans=s[i]-s[i+1]\n",
        "  em.append(ans)\n",
        "print(em)\n",
        "for i in range(0,len(em)-1):\n",
        "  if(em[i]==em[i+1]):\n",
        "    print(True)\n",
        "    break\n",
        "  else:\n",
        "    print(False)\n",
        "    break"
      ],
      "execution_count": null,
      "outputs": [
        {
          "output_type": "stream",
          "text": [
            "[-1, -1, -5, -1, -1, 0, -1, 0, -2, 0, -1, -2, 0, 0, -1, 0, -2, -2, 0]\n",
            "True\n"
          ],
          "name": "stdout"
        }
      ]
    },
    {
      "cell_type": "code",
      "metadata": {
        "id": "eFyrwLoMBsWp",
        "colab": {
          "base_uri": "https://localhost:8080/"
        },
        "outputId": "28021f54-5c0f-4ac8-ec35-e63f1f9c771c"
      },
      "source": [
        "l=[3,1,2,4]\n",
        "em=[]\n",
        "em2=[]\n",
        "for i in l:\n",
        "  if(i%2==0):\n",
        "    em.append(i)\n",
        "  if(i%2==1):\n",
        "    em2.append(i)\n",
        "print(em+em2)"
      ],
      "execution_count": null,
      "outputs": [
        {
          "output_type": "stream",
          "text": [
            "[2, 4, 3, 1]\n"
          ],
          "name": "stdout"
        }
      ]
    },
    {
      "cell_type": "code",
      "metadata": {
        "id": "cxJNnlCMGxfw",
        "colab": {
          "base_uri": "https://localhost:8080/"
        },
        "outputId": "9d5cf0b4-c724-4bf7-aa5f-1ad288bf1c08"
      },
      "source": [
        "l=[4,2,5,7]\n",
        "res=[0]*len(l)\n",
        "print(res)"
      ],
      "execution_count": null,
      "outputs": [
        {
          "output_type": "stream",
          "text": [
            "[0, 0, 0, 0]\n"
          ],
          "name": "stdout"
        }
      ]
    },
    {
      "cell_type": "code",
      "metadata": {
        "id": "wu9bT-EXl_0U",
        "colab": {
          "base_uri": "https://localhost:8080/"
        },
        "outputId": "f7e63ebd-c2fe-4476-fc3b-7c73a78f3633"
      },
      "source": [
        "l=[1,2,3,4]\n",
        "em=[]\n",
        "for i in range(0,len(l)):\n",
        "  for j in range(i,len(l)):\n",
        "    for k in range(j,len(l)):\n",
        "      if(l[i]<l[j]<l[k] or l[i]>l[j]>l[k]):\n",
        "        em.append(l[i])\n",
        "        em.append(l[j])\n",
        "        em.append(l[k])\n",
        "ans=len(em)//3\n",
        "print(ans)\n"
      ],
      "execution_count": null,
      "outputs": [
        {
          "output_type": "stream",
          "text": [
            "4\n"
          ],
          "name": "stdout"
        }
      ]
    },
    {
      "cell_type": "code",
      "metadata": {
        "id": "x7tm81YCpeHi",
        "colab": {
          "base_uri": "https://localhost:8080/"
        },
        "outputId": "a61b3ad0-44db-4fcb-897a-0f0ba2b53e71"
      },
      "source": [
        "l=[2,2,2,3,3,3]\n",
        "em=[]\n",
        "for i in range(0,len(l)):\n",
        "  if(l.count(l[i])==l[i]):\n",
        "    em.append(l[i])\n",
        "if(len(em)==0):\n",
        "  print(-1)\n",
        "else:\n",
        "  print(max(em))\n",
        "\n"
      ],
      "execution_count": null,
      "outputs": [
        {
          "output_type": "stream",
          "text": [
            "3\n"
          ],
          "name": "stdout"
        }
      ]
    },
    {
      "cell_type": "code",
      "metadata": {
        "id": "Sbft1Nom0NTl",
        "colab": {
          "base_uri": "https://localhost:8080/"
        },
        "outputId": "29e543b4-6deb-4c03-a88e-d832aff7107d"
      },
      "source": [
        "l=[0,0,0,1]\n",
        "s=sorted(l)\n",
        "sq=[x*2 for x in s]\n",
        "for i in range(0,len(s)):\n",
        "  if(s[-1]>=max(sq[:-1])):\n",
        "    print(l.index(s[-1]))\n",
        "    break\n",
        "  else:\n",
        "    print(-1)\n",
        "    break"
      ],
      "execution_count": null,
      "outputs": [
        {
          "output_type": "stream",
          "text": [
            "3\n"
          ],
          "name": "stdout"
        }
      ]
    },
    {
      "cell_type": "code",
      "metadata": {
        "id": "c5RuleSwDsUD",
        "colab": {
          "base_uri": "https://localhost:8080/"
        },
        "outputId": "36a2c7e9-0e3a-457d-d782-29d339397d20"
      },
      "source": [
        "l=[1,2]\n",
        "em=[]\n",
        "for i in range(0,len(l)):\n",
        "  if(l.count(l[i])>len(l)/3):\n",
        "    em.append(l[i])\n",
        "s=list(set(em))\n",
        "print(s)"
      ],
      "execution_count": null,
      "outputs": [
        {
          "output_type": "stream",
          "text": [
            "[1, 2]\n"
          ],
          "name": "stdout"
        }
      ]
    },
    {
      "cell_type": "code",
      "metadata": {
        "id": "fQ9s3xcKJG0v",
        "colab": {
          "base_uri": "https://localhost:8080/"
        },
        "outputId": "6c98379d-cb51-47f7-cda1-67b83ebc0286"
      },
      "source": [
        "l=[1,2,3,4,5]\n",
        "m=(len(l)-1)/2\n",
        "inn = int(m)\n",
        "median=l[inn]\n",
        "em=[]\n",
        "for i in range(0,len(l)):\n",
        "  for j in range(0,len(l)):\n",
        "    if(abs(l[i]-median)>abs(l[j]-median) and l[i]>l[j]):\n",
        "      em.append(l[i])\n",
        "print(em)\n",
        "\n"
      ],
      "execution_count": null,
      "outputs": [
        {
          "output_type": "stream",
          "text": [
            "[4, 5, 5, 5]\n"
          ],
          "name": "stdout"
        }
      ]
    },
    {
      "cell_type": "code",
      "metadata": {
        "id": "ryFkrXOXcE9U",
        "colab": {
          "base_uri": "https://localhost:8080/"
        },
        "outputId": "968903df-b5c7-4ec9-8557-5dd530442054"
      },
      "source": [
        "import math\n",
        "def primeFactors(n):\n",
        "   while n % 2 == 0:\n",
        "      return 2,\n",
        "      n = n / 2\n",
        "   for i in range(3,int(math.sqrt(n))+1,2):\n",
        "      while n % i== 0:\n",
        "         return i\n",
        "         n = n / i\n",
        "   if n > 2:\n",
        "      return n\n",
        "n=6\n",
        "print(primeFactors(n))\n"
      ],
      "execution_count": null,
      "outputs": [
        {
          "output_type": "stream",
          "text": [
            "(2,)\n"
          ],
          "name": "stdout"
        }
      ]
    },
    {
      "cell_type": "code",
      "metadata": {
        "id": "R3CU13audn_p",
        "colab": {
          "base_uri": "https://localhost:8080/"
        },
        "outputId": "42643f81-1e18-4b70-af3a-fd2b13092c9c"
      },
      "source": [
        "s=input()\n",
        "l=list(s)\n",
        "if(s[0]!=s[-1] and len(s)>2):\n",
        "  l[0],l[-1]=l[-1],l[0]\n",
        "  ans=\"\".join(l)\n",
        "  print(ans)\n",
        "if(len(s)==2):\n",
        "  print(s)\n",
        "\n"
      ],
      "execution_count": null,
      "outputs": [
        {
          "output_type": "stream",
          "text": [
            "subbu\n",
            "uubbs\n"
          ],
          "name": "stdout"
        }
      ]
    },
    {
      "cell_type": "code",
      "metadata": {
        "colab": {
          "base_uri": "https://localhost:8080/"
        },
        "id": "Ua4hof8oTD1h",
        "outputId": "37cb1b48-600d-4328-cdca-3fc58745125c"
      },
      "source": [
        "n='100'\n",
        "co=int(n,2)\n",
        "print(co)"
      ],
      "execution_count": null,
      "outputs": [
        {
          "output_type": "stream",
          "text": [
            "4\n"
          ],
          "name": "stdout"
        }
      ]
    },
    {
      "cell_type": "code",
      "metadata": {
        "colab": {
          "base_uri": "https://localhost:8080/"
        },
        "id": "_kU9rnIhUIIc",
        "outputId": "e41c65a4-f47d-4a31-97de-c3cd81668da9"
      },
      "source": [
        "n=20\n",
        "print(bin(n)[2:])\n",
        "print(oct(n)[2:])\n",
        "print(hex(n)[2:])"
      ],
      "execution_count": null,
      "outputs": [
        {
          "output_type": "stream",
          "text": [
            "10100\n",
            "24\n",
            "14\n"
          ],
          "name": "stdout"
        }
      ]
    },
    {
      "cell_type": "code",
      "metadata": {
        "colab": {
          "base_uri": "https://localhost:8080/"
        },
        "id": "vntNwMl6UqHM",
        "outputId": "1a032719-6f6c-480c-d239-d97dc9f46577"
      },
      "source": [
        "x=-100\n",
        "result = int(str(x)[::-1]) if x >= 0 else int(\"-\"+str(x)[::-1].replace(\"-\", \"\"))\n",
        "print(result)"
      ],
      "execution_count": null,
      "outputs": [
        {
          "output_type": "stream",
          "text": [
            "-1\n"
          ],
          "name": "stdout"
        }
      ]
    },
    {
      "cell_type": "code",
      "metadata": {
        "colab": {
          "base_uri": "https://localhost:8080/"
        },
        "id": "-qBoNhFFac0h",
        "outputId": "57e0a5f6-c39e-484e-edb5-b922a9e41cba"
      },
      "source": [
        "def pal(n):\n",
        "  s=str(n)\n",
        "  r=s[::-1]\n",
        "  if(s==r):\n",
        "    return n\n",
        "l=[1,525,3,4,252,5,10]\n",
        "l.sort()\n",
        "c=-1\n",
        "while(c!=(-len(l))):\n",
        "  if(l[c]==pal(l[c])):\n",
        "    print(l[c])\n",
        "    break\n",
        "  c-=1\n",
        "\n",
        "\n",
        "\n"
      ],
      "execution_count": null,
      "outputs": [
        {
          "output_type": "stream",
          "text": [
            "525\n"
          ],
          "name": "stdout"
        }
      ]
    },
    {
      "cell_type": "code",
      "metadata": {
        "colab": {
          "base_uri": "https://localhost:8080/"
        },
        "id": "OBanClZLahet",
        "outputId": "fd4f41d8-023a-486b-943c-6082e6c178b5"
      },
      "source": [
        "print(pal(525))"
      ],
      "execution_count": null,
      "outputs": [
        {
          "output_type": "stream",
          "text": [
            "525\n"
          ],
          "name": "stdout"
        }
      ]
    },
    {
      "cell_type": "code",
      "metadata": {
        "colab": {
          "base_uri": "https://localhost:8080/"
        },
        "id": "eL6AwIVnajcw",
        "outputId": "588548bb-05a2-44e2-ef6b-59b2ebf1bfd2"
      },
      "source": [
        "def diffsum(n,m):\n",
        "  nn=0\n",
        "  mm=0\n",
        "  for i in range(1,m+1):\n",
        "    if(i%n==0):\n",
        "      nn+=i\n",
        "    elif(i%n!=0):\n",
        "      mm+=i\n",
        "  diff = abs(mm-nn)\n",
        "  return diff\n",
        "\n",
        "print(diffsum(3,10))\n"
      ],
      "execution_count": null,
      "outputs": [
        {
          "output_type": "stream",
          "text": [
            "19\n"
          ],
          "name": "stdout"
        }
      ]
    },
    {
      "cell_type": "markdown",
      "metadata": {
        "id": "RT79qL0n4R1k"
      },
      "source": [
        "Step 1) 14 is even; divide by 2 and obtain 7. \n",
        "Step 2) 7 is odd; subtract 1 and obtain 6.\n",
        "Step 3) 6 is even; divide by 2 and obtain 3. \n",
        "Step 4) 3 is odd; subtract 1 and obtain 2. \n",
        "Step 5) 2 is even; divide by 2 and obtain 1. \n",
        "Step 6) 1 is odd; subtract 1 and obtain 0."
      ]
    },
    {
      "cell_type": "code",
      "metadata": {
        "colab": {
          "base_uri": "https://localhost:8080/"
        },
        "id": "JL5f0GD65LLc",
        "outputId": "ce9766b8-75ed-4dba-8f4c-80ad78f4b153"
      },
      "source": [
        "n=14\n",
        "c=0\n",
        "while(n>0):\n",
        "  if(n%2==0):\n",
        "    ans=n//2\n",
        "    c+=1\n",
        "    n-=ans\n",
        "  if(n%2==1):\n",
        "    n=n-1\n",
        "    ans=n//2\n",
        "    c+=1\n",
        "print(c)\n"
      ],
      "execution_count": null,
      "outputs": [
        {
          "output_type": "stream",
          "text": [
            "6\n"
          ],
          "name": "stdout"
        }
      ]
    },
    {
      "cell_type": "code",
      "metadata": {
        "colab": {
          "base_uri": "https://localhost:8080/"
        },
        "id": "QV3Fb8_i5QTw",
        "outputId": "46797b49-1eb5-4bf9-ed0b-dbf923ce5281"
      },
      "source": [
        "n=7\n",
        "b=bin(n)[2:]\n",
        "l=list(b)\n",
        "li=[]\n",
        "for i in range(0,len(l)-1):\n",
        "  if(l[i]==l[i+1]):\n",
        "    li.append('f')\n",
        "    break\n",
        "  else:\n",
        "    li.append('t')\n",
        "print(li[-1])\n",
        "print(li)\n",
        "\n"
      ],
      "execution_count": null,
      "outputs": [
        {
          "output_type": "stream",
          "text": [
            "f\n",
            "['f']\n"
          ],
          "name": "stdout"
        }
      ]
    },
    {
      "cell_type": "code",
      "metadata": {
        "colab": {
          "base_uri": "https://localhost:8080/",
          "height": 212
        },
        "id": "3KrOQZCC-D29",
        "outputId": "44846fd9-4cc3-40af-e1ff-eca6b3337737"
      },
      "source": [
        "l=[1024,512,256,128,64,32,16,8,4,2,1]\n",
        "l2=[]\n",
        "l3=[]\n",
        "l4=[]\n",
        "for i in l:\n",
        "  a=bin(i)[2:]\n",
        "  if(a.count('1')==1):\n",
        "    l2.append(i)\n",
        "  if(a.count('1')==2):\n",
        "    l3.append(i)\n",
        "  if(a.count('1')==3):\n",
        "    l4.append(i)\n",
        "\n",
        "  \n"
      ],
      "execution_count": null,
      "outputs": [
        {
          "output_type": "error",
          "ename": "NameError",
          "evalue": "ignored",
          "traceback": [
            "\u001b[0;31m---------------------------------------------------------------------------\u001b[0m",
            "\u001b[0;31mNameError\u001b[0m                                 Traceback (most recent call last)",
            "\u001b[0;32m<ipython-input-141-125b54229352>\u001b[0m in \u001b[0;36m<module>\u001b[0;34m()\u001b[0m\n\u001b[1;32m     11\u001b[0m   \u001b[0;32mif\u001b[0m\u001b[0;34m(\u001b[0m\u001b[0ma\u001b[0m\u001b[0;34m.\u001b[0m\u001b[0mcount\u001b[0m\u001b[0;34m(\u001b[0m\u001b[0;34m'1'\u001b[0m\u001b[0;34m)\u001b[0m\u001b[0;34m==\u001b[0m\u001b[0;36m3\u001b[0m\u001b[0;34m)\u001b[0m\u001b[0;34m:\u001b[0m\u001b[0;34m\u001b[0m\u001b[0;34m\u001b[0m\u001b[0m\n\u001b[1;32m     12\u001b[0m     \u001b[0ml4\u001b[0m\u001b[0;34m.\u001b[0m\u001b[0mappend\u001b[0m\u001b[0;34m(\u001b[0m\u001b[0mi\u001b[0m\u001b[0;34m)\u001b[0m\u001b[0;34m\u001b[0m\u001b[0;34m\u001b[0m\u001b[0m\n\u001b[0;32m---> 13\u001b[0;31m \u001b[0mprint\u001b[0m\u001b[0;34m(\u001b[0m\u001b[0msort\u001b[0m\u001b[0;34m(\u001b[0m\u001b[0ml2\u001b[0m\u001b[0;34m+\u001b[0m\u001b[0ml3\u001b[0m\u001b[0;34m+\u001b[0m\u001b[0ml4\u001b[0m\u001b[0;34m)\u001b[0m\u001b[0;34m)\u001b[0m\u001b[0;34m\u001b[0m\u001b[0;34m\u001b[0m\u001b[0m\n\u001b[0m\u001b[1;32m     14\u001b[0m \u001b[0;34m\u001b[0m\u001b[0m\n",
            "\u001b[0;31mNameError\u001b[0m: name 'sort' is not defined"
          ]
        }
      ]
    },
    {
      "cell_type": "code",
      "metadata": {
        "colab": {
          "base_uri": "https://localhost:8080/"
        },
        "id": "zqEp5sPSVyav",
        "outputId": "da3c9ea2-c2ae-4a75-87e8-9bdb53d975bd"
      },
      "source": [
        "n=2\n",
        "l=[]\n",
        "for i in range(0,n+1):\n",
        "  s=bin(i)[2:]\n",
        "  a=s.count('1')\n",
        "  l.append(a)\n",
        "print(l)"
      ],
      "execution_count": null,
      "outputs": [
        {
          "output_type": "stream",
          "text": [
            "[0, 1, 1]\n"
          ],
          "name": "stdout"
        }
      ]
    },
    {
      "cell_type": "code",
      "metadata": {
        "colab": {
          "base_uri": "https://localhost:8080/"
        },
        "id": "M7oSHEcufjOD",
        "outputId": "c2f11fa2-aa60-4670-fe15-c8a7f0a4e4ce"
      },
      "source": [
        "n=0\n",
        "b=bin(n)[2:]\n",
        "l=[]\n",
        "for i in b:\n",
        "  if(i=='0'):\n",
        "    l.append('1')\n",
        "  if(i=='1'):\n",
        "    l.append('0')\n",
        "ans=\"\".join(l)\n",
        "print(int(ans,2))\n",
        "  \n"
      ],
      "execution_count": null,
      "outputs": [
        {
          "output_type": "stream",
          "text": [
            "1\n"
          ],
          "name": "stdout"
        }
      ]
    },
    {
      "cell_type": "code",
      "metadata": {
        "colab": {
          "base_uri": "https://localhost:8080/"
        },
        "id": "DnkXXDkagMbs",
        "outputId": "901d6200-1a42-4141-ba0a-d38fdba9233e"
      },
      "source": [
        "print('101',2)"
      ],
      "execution_count": null,
      "outputs": [
        {
          "output_type": "stream",
          "text": [
            "101 2\n"
          ],
          "name": "stdout"
        }
      ]
    },
    {
      "cell_type": "code",
      "metadata": {
        "colab": {
          "base_uri": "https://localhost:8080/"
        },
        "id": "4DR9Bi5pgzpH",
        "outputId": "9a9f2fc9-1922-4f45-ad75-77eb7ecac3ac"
      },
      "source": [
        "a='1'\n",
        "b='0100'\n",
        "c=0\n",
        "for i in range(0,len(a)):\n",
        "  if(a[i]!=b[i]):\n",
        "    c+=1\n",
        "print(c)"
      ],
      "execution_count": null,
      "outputs": [
        {
          "output_type": "stream",
          "text": [
            "1\n"
          ],
          "name": "stdout"
        }
      ]
    },
    {
      "cell_type": "code",
      "metadata": {
        "colab": {
          "base_uri": "https://localhost:8080/"
        },
        "id": "MvZcwxJKjtcK",
        "outputId": "f4637150-bcdd-475f-c15f-52e5f6d4ee83"
      },
      "source": [
        "print(bin(7)[2:])"
      ],
      "execution_count": null,
      "outputs": [
        {
          "output_type": "stream",
          "text": [
            "111\n"
          ],
          "name": "stdout"
        }
      ]
    },
    {
      "cell_type": "markdown",
      "metadata": {
        "id": "YFOFDXmLZsjf"
      },
      "source": [
        "# Selection Sort"
      ]
    },
    {
      "cell_type": "code",
      "metadata": {
        "id": "cuoWvbItCBp2",
        "colab": {
          "base_uri": "https://localhost:8080/"
        },
        "outputId": "e5820949-6a20-41d6-9591-b8160deea113"
      },
      "source": [
        "l=list(map(int,input().split()))\n",
        "for i in range(0,len(l)):\n",
        "  m=min(l[i:])\n",
        "  mi=l.index(m,i)\n",
        "  l[i],l[mi]=l[mi],l[i]\n",
        "print(l)"
      ],
      "execution_count": null,
      "outputs": [
        {
          "output_type": "stream",
          "text": [
            "6 7 2 2 1 4 9\n",
            "[1, 2, 2, 4, 6, 7, 9]\n"
          ],
          "name": "stdout"
        }
      ]
    },
    {
      "cell_type": "code",
      "metadata": {
        "id": "3PvvcW2RdlzL",
        "colab": {
          "base_uri": "https://localhost:8080/"
        },
        "outputId": "1d3480fb-4314-4d64-8e63-a37ac0ca9095"
      },
      "source": [
        "s=input()\n",
        "s.lower()\n",
        "l=['a','b','c','d','e','f','g','h','i','j','k','l','m','n','o','p','q','r','s','t','u','v','w','x','y','z']\n",
        "em=[]\n",
        "for i in range(0,len(l)):\n",
        "  if(l[i] not in s):\n",
        "    em.append('False')\n",
        "  else:\n",
        "    em.append('True')\n",
        "print(em[-1])\n",
        "\n"
      ],
      "execution_count": 75,
      "outputs": [
        {
          "output_type": "stream",
          "text": [
            "We promptly judged antique ivory buckles for the prize\n",
            "True\n"
          ],
          "name": "stdout"
        }
      ]
    },
    {
      "cell_type": "code",
      "metadata": {
        "colab": {
          "base_uri": "https://localhost:8080/"
        },
        "id": "Y9Zk8oetiYeT",
        "outputId": "fb53c2d3-4e95-4f47-e550-b3f4cb94c8c9"
      },
      "source": [
        "a=list(map(int,input().split()))\n",
        "b=list(map(int,input().split()))\n",
        "c=a+b\n",
        "print(sorted(c))"
      ],
      "execution_count": null,
      "outputs": [
        {
          "output_type": "stream",
          "text": [
            "1 10 5 15\n",
            "20 0 2\n",
            "[0, 1, 2, 5, 10, 15, 20]\n"
          ],
          "name": "stdout"
        }
      ]
    },
    {
      "cell_type": "code",
      "metadata": {
        "id": "cOa6ZCvYm-YG",
        "colab": {
          "base_uri": "https://localhost:8080/"
        },
        "outputId": "7b0df5db-49f0-48d4-8f4c-dcd71704c090"
      },
      "source": [
        "t=int(input())\n",
        "l=[]\n",
        "while(t>0):\n",
        "  N,M,K=input().split()\n",
        "  l1=list(map(int,input().split()))\n",
        "  l2=list(map(int,input().split()))\n",
        "  li=l1+l2\n",
        "  li.sort()\n",
        "  ans=li[int(K)-1]\n",
        "  l.append(ans)\n",
        "  t-=1\n",
        "for i in l:\n",
        "  print(i)"
      ],
      "execution_count": null,
      "outputs": [
        {
          "output_type": "stream",
          "text": [
            "2\n",
            "5 4 5\n",
            "2 3 6 7 9\n",
            "1 4 8 10\n",
            "7 11 15\n",
            "1 10 10 25 40 54 79\n",
            "15 24 27 32 33 39 48 68 82 88 90\n",
            "6\n",
            "79\n"
          ],
          "name": "stdout"
        }
      ]
    },
    {
      "cell_type": "code",
      "metadata": {
        "colab": {
          "base_uri": "https://localhost:8080/"
        },
        "id": "rrU4oMyAi6G5",
        "outputId": "36888fdf-6e63-4728-e554-046886185665"
      },
      "source": [
        "n=int(input())\n",
        "t=n\n",
        "sum=0\n",
        "while (t>0):\n",
        "  d=t%10\n",
        "  sum+=d**3\n",
        "  t//=10\n",
        "print(sum)\n"
      ],
      "execution_count": null,
      "outputs": [
        {
          "output_type": "stream",
          "text": [
            "153\n",
            "153\n"
          ],
          "name": "stdout"
        }
      ]
    },
    {
      "cell_type": "code",
      "metadata": {
        "id": "A2dhmiS_jZqk",
        "colab": {
          "base_uri": "https://localhost:8080/"
        },
        "outputId": "2edfa5ca-4c29-48d5-fe9f-75d2ffcc8222"
      },
      "source": [
        "s='100'\n",
        "a=int(s,2)\n",
        "print(a)"
      ],
      "execution_count": 1,
      "outputs": [
        {
          "output_type": "stream",
          "text": [
            "4\n"
          ],
          "name": "stdout"
        }
      ]
    },
    {
      "cell_type": "code",
      "metadata": {
        "colab": {
          "base_uri": "https://localhost:8080/"
        },
        "id": "aRILA_6vwuwb",
        "outputId": "975fae4c-b208-4aa9-b246-2e083c23637d"
      },
      "source": [
        "l=[13,6,7,12]\n",
        "s=sorted(l)\n",
        "li=[]\n",
        "for i in range(0,len(s)-1):\n",
        "  ans=s[i+1]\n",
        "  li.append(ans)\n",
        "li.append('_')\n",
        "for i in range(0,len(l)):\n",
        "  ind=s.index(l[i])\n",
        "  ni=li[ind]\n",
        "  print(ni,end=' ')\n",
        " "
      ],
      "execution_count": 27,
      "outputs": [
        {
          "output_type": "stream",
          "text": [
            "_ 7 12 13 "
          ],
          "name": "stdout"
        }
      ]
    },
    {
      "cell_type": "code",
      "metadata": {
        "colab": {
          "base_uri": "https://localhost:8080/"
        },
        "id": "Ot1NW9k74Z5I",
        "outputId": "4842a5b1-547d-4e1a-939d-9c8640786e75"
      },
      "source": [
        "t=int(input())\n",
        "while(t>0):\n",
        "    num=int(input())\n",
        "    em=[]\n",
        "    sum=0\n",
        "    l=list(map(int,input().split()))\n",
        "    for i in range(0,len(l)):\n",
        "        sum+=l[i]\n",
        "        em.append(sum)\n",
        "    t-=1\n",
        "print(em)"
      ],
      "execution_count": 4,
      "outputs": [
        {
          "output_type": "stream",
          "text": [
            "2\n",
            "3\n",
            "1 2 3\n",
            "4\n",
            "1 2 3 4\n",
            "[10]\n"
          ],
          "name": "stdout"
        }
      ]
    },
    {
      "cell_type": "code",
      "metadata": {
        "id": "Y2SSpkhaIDZ6"
      },
      "source": [
        "2\n",
        "4 3\n",
        "-1 -3 4 2\n",
        "4 2\n",
        "0 -1 2 1"
      ],
      "execution_count": null,
      "outputs": []
    },
    {
      "cell_type": "code",
      "metadata": {
        "colab": {
          "base_uri": "https://localhost:8080/"
        },
        "id": "oAUftB_TPYil",
        "outputId": "d050ae1d-94cd-4446-b002-b17d310374e5"
      },
      "source": [
        "k=3\n",
        "c=0\n",
        "l=[-1,-3,4,2]\n",
        "\n",
        "for i in range(0,len(l)):\n",
        "  if(l[i]<=0):\n",
        "    c+=1\n",
        "if(c!=k):\n",
        "  print('Yes')\n",
        "else:\n",
        "  print('No')\n",
        "  2\n",
        "4 3\n",
        "-1 -3 4 2\n",
        "4 2\n",
        "0 -1 2 1"
      ],
      "execution_count": 44,
      "outputs": [
        {
          "output_type": "stream",
          "text": [
            "2\n",
            "Yes\n"
          ],
          "name": "stdout"
        }
      ]
    },
    {
      "cell_type": "markdown",
      "metadata": {
        "id": "uMx11pOwWN82"
      },
      "source": [
        "**ANGRY PROFESSOR** all test cases passed in first go"
      ]
    },
    {
      "cell_type": "code",
      "metadata": {
        "colab": {
          "base_uri": "https://localhost:8080/"
        },
        "id": "xzfBRoUUPwuW",
        "outputId": "ee8aabf3-3e5d-4fdf-9737-c97a03cbcf13"
      },
      "source": [
        "n=int(input())\n",
        "em=[]\n",
        "c=0\n",
        "while(n>0):\n",
        "  students,k=input().split()\n",
        "  l=list(map(int,input().split()))\n",
        "  for i in range(0,len(l)):\n",
        "    if(l[i]<=0):\n",
        "      c+=1\n",
        "  if(c>=int(k)):\n",
        "    em.append('NO')\n",
        "  else:\n",
        "    em.append('YES')\n",
        "  c=0\n",
        "  n-=1\n",
        "for i in em:\n",
        "  print(i)\n",
        "  \n"
      ],
      "execution_count": 53,
      "outputs": [
        {
          "output_type": "stream",
          "text": [
            "1\n",
            "10 2\n",
            "19 29 -17 -71 -75 -27 -56 -53 65 83\n",
            "6\n",
            "NO\n"
          ],
          "name": "stdout"
        }
      ]
    },
    {
      "cell_type": "code",
      "metadata": {
        "colab": {
          "base_uri": "https://localhost:8080/"
        },
        "id": "JzSF3zxIQPVN",
        "outputId": "ef252e5a-1a48-4e4c-9f55-7af88d9ca25a"
      },
      "source": [
        "n=1012\n",
        "s=list(str(n))\n",
        "l=[int(x) for x in s]\n",
        "c=0\n",
        "for i in range(0,len(l)):\n",
        "  if(l[i]!=0):\n",
        "    if(n%l[i]==0):\n",
        "      c+=1\n",
        "print(c)"
      ],
      "execution_count": 74,
      "outputs": [
        {
          "output_type": "stream",
          "text": [
            "3\n"
          ],
          "name": "stdout"
        }
      ]
    },
    {
      "cell_type": "code",
      "metadata": {
        "colab": {
          "base_uri": "https://localhost:8080/"
        },
        "id": "XdZ_re3r3Ffs",
        "outputId": "a0a13593-299e-41a6-8623-7287278cde70"
      },
      "source": [
        "print(1%1012)"
      ],
      "execution_count": 72,
      "outputs": [
        {
          "output_type": "stream",
          "text": [
            "1\n"
          ],
          "name": "stdout"
        }
      ]
    },
    {
      "cell_type": "code",
      "metadata": {
        "id": "Hb3gRUzA3v0_"
      },
      "source": [
        ""
      ],
      "execution_count": null,
      "outputs": []
    }
  ]
}